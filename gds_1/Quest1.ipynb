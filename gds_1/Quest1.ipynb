{
 "cells": [
  {
   "cell_type": "markdown",
   "id": "b7dc8ae9",
   "metadata": {},
   "source": [
    "### Import relevant libraries"
   ]
  },
  {
   "cell_type": "markdown",
   "id": "b4676a18",
   "metadata": {},
   "source": [
    "\n",
    "# Set-up Test / Quest 1:"
   ]
  },
  {
   "cell_type": "markdown",
   "id": "9df76f22",
   "metadata": {},
   "source": [
    "_Run the rest of the code cell by cell._"
   ]
  },
  {
   "cell_type": "markdown",
   "id": "b64e0ac8",
   "metadata": {},
   "source": [
    "### Use example datasets from the pysal library"
   ]
  },
  {
   "cell_type": "code",
   "execution_count": 1,
   "id": "35ba8292",
   "metadata": {},
   "outputs": [
    {
     "name": "stderr",
     "output_type": "stream",
     "text": [
      "<string>:1: UserWarning: Shapely 2.0 is installed, but because PyGEOS is also installed, GeoPandas will still use PyGEOS by default for now. To force to use and test Shapely 2.0, you have to set the environment variable USE_PYGEOS=0. You can do this before starting the Python process, or in your code before importing geopandas:\n",
      "\n",
      "import os\n",
      "os.environ['USE_PYGEOS'] = '0'\n",
      "import geopandas\n",
      "\n",
      "In a future release, GeoPandas will switch to using Shapely by default. If you are using PyGEOS directly (calling PyGEOS functions on geometries from GeoPandas), this will then stop working and you are encouraged to migrate from PyGEOS to Shapely 2.0 (https://shapely.readthedocs.io/en/latest/migration_pygeos.html).\n"
     ]
    }
   ],
   "source": [
    "from libpysal.examples import available\n",
    "from libpysal.examples import explain"
   ]
  },
  {
   "cell_type": "markdown",
   "id": "95cfe845",
   "metadata": {},
   "source": [
    "### Lists available datasets"
   ]
  },
  {
   "cell_type": "code",
   "execution_count": 2,
   "id": "6d0d7fcf",
   "metadata": {},
   "outputs": [
    {
     "data": {
      "text/html": [
       "<div>\n",
       "<style scoped>\n",
       "    .dataframe tbody tr th:only-of-type {\n",
       "        vertical-align: middle;\n",
       "    }\n",
       "\n",
       "    .dataframe tbody tr th {\n",
       "        vertical-align: top;\n",
       "    }\n",
       "\n",
       "    .dataframe thead th {\n",
       "        text-align: right;\n",
       "    }\n",
       "</style>\n",
       "<table border=\"1\" class=\"dataframe\">\n",
       "  <thead>\n",
       "    <tr style=\"text-align: right;\">\n",
       "      <th></th>\n",
       "      <th>Name</th>\n",
       "      <th>Description</th>\n",
       "      <th>Installed</th>\n",
       "    </tr>\n",
       "  </thead>\n",
       "  <tbody>\n",
       "    <tr>\n",
       "      <th>0</th>\n",
       "      <td>10740</td>\n",
       "      <td>Albuquerque, New Mexico, Census 2000 Tract Dat...</td>\n",
       "      <td>True</td>\n",
       "    </tr>\n",
       "    <tr>\n",
       "      <th>1</th>\n",
       "      <td>AirBnB</td>\n",
       "      <td>Airbnb rentals, socioeconomics, and crime in C...</td>\n",
       "      <td>False</td>\n",
       "    </tr>\n",
       "    <tr>\n",
       "      <th>2</th>\n",
       "      <td>Atlanta</td>\n",
       "      <td>Atlanta, GA region homicide counts and rates</td>\n",
       "      <td>False</td>\n",
       "    </tr>\n",
       "    <tr>\n",
       "      <th>3</th>\n",
       "      <td>Baltimore</td>\n",
       "      <td>Baltimore house sales prices and hedonics</td>\n",
       "      <td>False</td>\n",
       "    </tr>\n",
       "    <tr>\n",
       "      <th>4</th>\n",
       "      <td>Bostonhsg</td>\n",
       "      <td>Boston housing and neighborhood data</td>\n",
       "      <td>False</td>\n",
       "    </tr>\n",
       "    <tr>\n",
       "      <th>...</th>\n",
       "      <td>...</td>\n",
       "      <td>...</td>\n",
       "      <td>...</td>\n",
       "    </tr>\n",
       "    <tr>\n",
       "      <th>93</th>\n",
       "      <td>taz</td>\n",
       "      <td>Traffic Analysis Zones in So. California</td>\n",
       "      <td>False</td>\n",
       "    </tr>\n",
       "    <tr>\n",
       "      <th>94</th>\n",
       "      <td>tokyo</td>\n",
       "      <td>Tokyo Mortality data</td>\n",
       "      <td>True</td>\n",
       "    </tr>\n",
       "    <tr>\n",
       "      <th>95</th>\n",
       "      <td>us_income</td>\n",
       "      <td>Per-capita income for the lower 48 US states 1...</td>\n",
       "      <td>True</td>\n",
       "    </tr>\n",
       "    <tr>\n",
       "      <th>96</th>\n",
       "      <td>virginia</td>\n",
       "      <td>Virginia counties shapefile</td>\n",
       "      <td>True</td>\n",
       "    </tr>\n",
       "    <tr>\n",
       "      <th>97</th>\n",
       "      <td>wmat</td>\n",
       "      <td>Datasets used for spatial weights testing</td>\n",
       "      <td>True</td>\n",
       "    </tr>\n",
       "  </tbody>\n",
       "</table>\n",
       "<p>98 rows × 3 columns</p>\n",
       "</div>"
      ],
      "text/plain": [
       "         Name                                        Description  Installed\n",
       "0       10740  Albuquerque, New Mexico, Census 2000 Tract Dat...       True\n",
       "1      AirBnB  Airbnb rentals, socioeconomics, and crime in C...      False\n",
       "2     Atlanta       Atlanta, GA region homicide counts and rates      False\n",
       "3   Baltimore          Baltimore house sales prices and hedonics      False\n",
       "4   Bostonhsg               Boston housing and neighborhood data      False\n",
       "..        ...                                                ...        ...\n",
       "93        taz           Traffic Analysis Zones in So. California      False\n",
       "94      tokyo                               Tokyo Mortality data       True\n",
       "95  us_income  Per-capita income for the lower 48 US states 1...       True\n",
       "96   virginia                        Virginia counties shapefile       True\n",
       "97       wmat          Datasets used for spatial weights testing       True\n",
       "\n",
       "[98 rows x 3 columns]"
      ]
     },
     "execution_count": 2,
     "metadata": {},
     "output_type": "execute_result"
    }
   ],
   "source": [
    "available() # this may take a while to finish loading"
   ]
  },
  {
   "cell_type": "markdown",
   "id": "0d8534a1",
   "metadata": {},
   "source": [
    "### Explain a dataset by _Name_"
   ]
  },
  {
   "cell_type": "code",
   "execution_count": 3,
   "id": "00d769f0",
   "metadata": {},
   "outputs": [
    {
     "data": {
      "text/html": [
       "\n",
       "        <iframe\n",
       "            width=\"700\"\n",
       "            height=\"350\"\n",
       "            src=\"https://geodacenter.github.io/data-and-lab//columbus/\"\n",
       "            frameborder=\"0\"\n",
       "            allowfullscreen\n",
       "            \n",
       "        ></iframe>\n",
       "        "
      ],
      "text/plain": [
       "<IPython.lib.display.IFrame at 0x1ac3115afb0>"
      ]
     },
     "execution_count": 3,
     "metadata": {},
     "output_type": "execute_result"
    }
   ],
   "source": [
    "explain('Columbus') # here we are getting more information on the 'Columbus' dataset"
   ]
  },
  {
   "cell_type": "markdown",
   "id": "b9f3af9d",
   "metadata": {},
   "source": [
    "__Quiz question: The 'Columbus' dataset contains information on crimes in Columbus, Ohio for which year?__ (Please answer directly in the quiz)"
   ]
  },
  {
   "cell_type": "markdown",
   "id": "e31887ac",
   "metadata": {},
   "source": [
    "### Use the osmnx library to read OpenStreetMap data to a geodataframe _(gdf)_"
   ]
  },
  {
   "cell_type": "code",
   "execution_count": 4,
   "id": "567cf931",
   "metadata": {
    "scrolled": true
   },
   "outputs": [
    {
     "ename": "NameError",
     "evalue": "name 'ox' is not defined",
     "output_type": "error",
     "traceback": [
      "\u001b[1;31m---------------------------------------------------------------------------\u001b[0m",
      "\u001b[1;31mNameError\u001b[0m                                 Traceback (most recent call last)",
      "Cell \u001b[1;32mIn[4], line 2\u001b[0m\n\u001b[0;32m      1\u001b[0m region_name \u001b[39m=\u001b[39m \u001b[39m'\u001b[39m\u001b[39mOhio, USA\u001b[39m\u001b[39m'\u001b[39m \n\u001b[1;32m----> 2\u001b[0m region \u001b[39m=\u001b[39m ox\u001b[39m.\u001b[39mgeocoder\u001b[39m.\u001b[39mgeocode_to_gdf(region_name, which_result\u001b[39m=\u001b[39m\u001b[39m2\u001b[39m)\n\u001b[0;32m      3\u001b[0m region\n",
      "\u001b[1;31mNameError\u001b[0m: name 'ox' is not defined"
     ]
    }
   ],
   "source": [
    "region_name = 'Ohio, USA' \n",
    "region = ox.geocoder.geocode_to_gdf(region_name, which_result=2)\n",
    "region"
   ]
  },
  {
   "cell_type": "markdown",
   "id": "9c0c7029",
   "metadata": {},
   "source": [
    "__Quiz question: Scroll across the whole 'region' geodataframe. What is the value of the 'class' field?__ (Please answer directly in the quiz)"
   ]
  },
  {
   "cell_type": "code",
   "execution_count": null,
   "id": "30037709",
   "metadata": {},
   "outputs": [],
   "source": []
  }
 ],
 "metadata": {
  "kernelspec": {
   "display_name": "Python 3 (ipykernel)",
   "language": "python",
   "name": "python3"
  },
  "language_info": {
   "codemirror_mode": {
    "name": "ipython",
    "version": 3
   },
   "file_extension": ".py",
   "mimetype": "text/x-python",
   "name": "python",
   "nbconvert_exporter": "python",
   "pygments_lexer": "ipython3",
   "version": "3.10.9"
  }
 },
 "nbformat": 4,
 "nbformat_minor": 5
}
